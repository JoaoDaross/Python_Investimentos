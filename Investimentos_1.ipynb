{
  "nbformat": 4,
  "nbformat_minor": 0,
  "metadata": {
    "colab": {
      "name": "Investimentos_1.ipynb",
      "provenance": [],
      "collapsed_sections": [
        "QZidNBm0zvT2",
        "ywUC7rwF2PAN"
      ],
      "authorship_tag": "ABX9TyOtDfgSwZBpI7QJmwpK4gOm",
      "include_colab_link": true
    },
    "kernelspec": {
      "name": "python3",
      "display_name": "Python 3"
    }
  },
  "cells": [
    {
      "cell_type": "markdown",
      "metadata": {
        "id": "view-in-github",
        "colab_type": "text"
      },
      "source": [
        "<a href=\"https://colab.research.google.com/github/JoaoDaross/Python_Investimentos/blob/master/Investimentos_1.ipynb\" target=\"_parent\"><img src=\"https://colab.research.google.com/assets/colab-badge.svg\" alt=\"Open In Colab\"/></a>"
      ]
    },
    {
      "cell_type": "markdown",
      "metadata": {
        "id": "RWt6YBjV45J0"
      },
      "source": [
        "**Utilizando a linguagem de programação PYTHON para fazer estudos no mercado financeiro.**"
      ]
    },
    {
      "cell_type": "markdown",
      "metadata": {
        "id": "QZidNBm0zvT2"
      },
      "source": [
        "# 1. Importando Bibliotecas"
      ]
    },
    {
      "cell_type": "markdown",
      "metadata": {
        "id": "OeB9gJwz4B_Z"
      },
      "source": [
        ">Instalando o YFinance"
      ]
    },
    {
      "cell_type": "code",
      "metadata": {
        "id": "avHg7TIy4LS0"
      },
      "source": [
        "!pip install yfinance --upgrade --no-cache-dir"
      ],
      "execution_count": null,
      "outputs": []
    },
    {
      "cell_type": "markdown",
      "metadata": {
        "id": "2EEBxiog4N_u"
      },
      "source": [
        ">Importando as Bibliotecas"
      ]
    },
    {
      "cell_type": "code",
      "metadata": {
        "id": "zWbJILPizypN"
      },
      "source": [
        "import numpy as np\n",
        "import pandas as pd\n",
        "import matplotlib.pyplot as plt\n",
        "import pandas_datareader.data as web\n",
        "\n",
        "import yfinance as yf\n",
        "yf.pdr_override()"
      ],
      "execution_count": null,
      "outputs": []
    },
    {
      "cell_type": "markdown",
      "metadata": {
        "id": "Mc4ZAfIc4TDG"
      },
      "source": [
        ">Importando o YFinance e sobrescrevendo os métodos do `pandas_datareader`"
      ]
    },
    {
      "cell_type": "code",
      "metadata": {
        "id": "iIuXxBLD4T2k"
      },
      "source": [
        "import yfinance as yf\n",
        "yf.pdr_override()"
      ],
      "execution_count": null,
      "outputs": []
    },
    {
      "cell_type": "markdown",
      "metadata": {
        "id": "ywUC7rwF2PAN"
      },
      "source": [
        "# 2.Obtendo os dados do mercado "
      ]
    },
    {
      "cell_type": "markdown",
      "metadata": {
        "id": "G3yJG9it3pH7"
      },
      "source": [
        ">Baixando as cotações do Yahoo Finance para o Índice Bovespa"
      ]
    },
    {
      "cell_type": "code",
      "metadata": {
        "id": "hz9990k62QM8",
        "outputId": "a9701d70-c04e-4cd1-b21b-a328dca3ad7c",
        "colab": {
          "base_uri": "https://localhost:8080/",
          "height": 34
        }
      },
      "source": [
        "ibov = web.get_data_yahoo('^BVSP')"
      ],
      "execution_count": 7,
      "outputs": [
        {
          "output_type": "stream",
          "text": [
            "\r[*********************100%***********************]  1 of 1 completed\n"
          ],
          "name": "stdout"
        }
      ]
    },
    {
      "cell_type": "markdown",
      "metadata": {
        "id": "xlK9hgQW3rIy"
      },
      "source": [
        ">Exibindo as cotações mais antigas"
      ]
    },
    {
      "cell_type": "code",
      "metadata": {
        "id": "BSRqo6TL1KnI",
        "outputId": "b8e1e3d8-e68f-4366-fa66-ca7c100b4fbc",
        "colab": {
          "base_uri": "https://localhost:8080/",
          "height": 235
        }
      },
      "source": [
        "ibov.head()"
      ],
      "execution_count": 8,
      "outputs": [
        {
          "output_type": "execute_result",
          "data": {
            "text/html": [
              "<div>\n",
              "<style scoped>\n",
              "    .dataframe tbody tr th:only-of-type {\n",
              "        vertical-align: middle;\n",
              "    }\n",
              "\n",
              "    .dataframe tbody tr th {\n",
              "        vertical-align: top;\n",
              "    }\n",
              "\n",
              "    .dataframe thead th {\n",
              "        text-align: right;\n",
              "    }\n",
              "</style>\n",
              "<table border=\"1\" class=\"dataframe\">\n",
              "  <thead>\n",
              "    <tr style=\"text-align: right;\">\n",
              "      <th></th>\n",
              "      <th>Open</th>\n",
              "      <th>High</th>\n",
              "      <th>Low</th>\n",
              "      <th>Close</th>\n",
              "      <th>Adj Close</th>\n",
              "      <th>Volume</th>\n",
              "    </tr>\n",
              "    <tr>\n",
              "      <th>Date</th>\n",
              "      <th></th>\n",
              "      <th></th>\n",
              "      <th></th>\n",
              "      <th></th>\n",
              "      <th></th>\n",
              "      <th></th>\n",
              "    </tr>\n",
              "  </thead>\n",
              "  <tbody>\n",
              "    <tr>\n",
              "      <th>1993-04-27</th>\n",
              "      <td>24.799999</td>\n",
              "      <td>25.400000</td>\n",
              "      <td>24.500000</td>\n",
              "      <td>24.500000</td>\n",
              "      <td>24.500000</td>\n",
              "      <td>0</td>\n",
              "    </tr>\n",
              "    <tr>\n",
              "      <th>1993-04-28</th>\n",
              "      <td>24.500000</td>\n",
              "      <td>24.600000</td>\n",
              "      <td>23.700001</td>\n",
              "      <td>24.299999</td>\n",
              "      <td>24.299999</td>\n",
              "      <td>0</td>\n",
              "    </tr>\n",
              "    <tr>\n",
              "      <th>1993-04-29</th>\n",
              "      <td>24.299999</td>\n",
              "      <td>24.799999</td>\n",
              "      <td>23.700001</td>\n",
              "      <td>23.700001</td>\n",
              "      <td>23.700001</td>\n",
              "      <td>0</td>\n",
              "    </tr>\n",
              "    <tr>\n",
              "      <th>1993-04-30</th>\n",
              "      <td>23.700001</td>\n",
              "      <td>24.200001</td>\n",
              "      <td>23.700001</td>\n",
              "      <td>24.100000</td>\n",
              "      <td>24.100000</td>\n",
              "      <td>0</td>\n",
              "    </tr>\n",
              "    <tr>\n",
              "      <th>1993-05-03</th>\n",
              "      <td>24.100000</td>\n",
              "      <td>24.400000</td>\n",
              "      <td>23.799999</td>\n",
              "      <td>24.100000</td>\n",
              "      <td>24.100000</td>\n",
              "      <td>0</td>\n",
              "    </tr>\n",
              "  </tbody>\n",
              "</table>\n",
              "</div>"
            ],
            "text/plain": [
              "                 Open       High        Low      Close  Adj Close  Volume\n",
              "Date                                                                     \n",
              "1993-04-27  24.799999  25.400000  24.500000  24.500000  24.500000       0\n",
              "1993-04-28  24.500000  24.600000  23.700001  24.299999  24.299999       0\n",
              "1993-04-29  24.299999  24.799999  23.700001  23.700001  23.700001       0\n",
              "1993-04-30  23.700001  24.200001  23.700001  24.100000  24.100000       0\n",
              "1993-05-03  24.100000  24.400000  23.799999  24.100000  24.100000       0"
            ]
          },
          "metadata": {
            "tags": []
          },
          "execution_count": 8
        }
      ]
    },
    {
      "cell_type": "markdown",
      "metadata": {
        "id": "ZsjHV36o3vhG"
      },
      "source": [
        ">Exibindo as cotações mais recentes"
      ]
    },
    {
      "cell_type": "code",
      "metadata": {
        "id": "RdNt5nlV2whC",
        "outputId": "4ab52ba8-f332-4898-bad8-a73f8535106b",
        "colab": {
          "base_uri": "https://localhost:8080/",
          "height": 235
        }
      },
      "source": [
        "ibov.tail()"
      ],
      "execution_count": 9,
      "outputs": [
        {
          "output_type": "execute_result",
          "data": {
            "text/html": [
              "<div>\n",
              "<style scoped>\n",
              "    .dataframe tbody tr th:only-of-type {\n",
              "        vertical-align: middle;\n",
              "    }\n",
              "\n",
              "    .dataframe tbody tr th {\n",
              "        vertical-align: top;\n",
              "    }\n",
              "\n",
              "    .dataframe thead th {\n",
              "        text-align: right;\n",
              "    }\n",
              "</style>\n",
              "<table border=\"1\" class=\"dataframe\">\n",
              "  <thead>\n",
              "    <tr style=\"text-align: right;\">\n",
              "      <th></th>\n",
              "      <th>Open</th>\n",
              "      <th>High</th>\n",
              "      <th>Low</th>\n",
              "      <th>Close</th>\n",
              "      <th>Adj Close</th>\n",
              "      <th>Volume</th>\n",
              "    </tr>\n",
              "    <tr>\n",
              "      <th>Date</th>\n",
              "      <th></th>\n",
              "      <th></th>\n",
              "      <th></th>\n",
              "      <th></th>\n",
              "      <th></th>\n",
              "      <th></th>\n",
              "    </tr>\n",
              "  </thead>\n",
              "  <tbody>\n",
              "    <tr>\n",
              "      <th>2020-09-21</th>\n",
              "      <td>98283.0</td>\n",
              "      <td>98283.0</td>\n",
              "      <td>95820.0</td>\n",
              "      <td>96991.0</td>\n",
              "      <td>96991.0</td>\n",
              "      <td>9738000</td>\n",
              "    </tr>\n",
              "    <tr>\n",
              "      <th>2020-09-22</th>\n",
              "      <td>96995.0</td>\n",
              "      <td>97684.0</td>\n",
              "      <td>96390.0</td>\n",
              "      <td>97294.0</td>\n",
              "      <td>97294.0</td>\n",
              "      <td>7281300</td>\n",
              "    </tr>\n",
              "    <tr>\n",
              "      <th>2020-09-23</th>\n",
              "      <td>97294.0</td>\n",
              "      <td>97389.0</td>\n",
              "      <td>95728.0</td>\n",
              "      <td>95735.0</td>\n",
              "      <td>95735.0</td>\n",
              "      <td>8830700</td>\n",
              "    </tr>\n",
              "    <tr>\n",
              "      <th>2020-09-24</th>\n",
              "      <td>95735.0</td>\n",
              "      <td>97955.0</td>\n",
              "      <td>95653.0</td>\n",
              "      <td>97012.0</td>\n",
              "      <td>97012.0</td>\n",
              "      <td>9331000</td>\n",
              "    </tr>\n",
              "    <tr>\n",
              "      <th>2020-09-25</th>\n",
              "      <td>97011.0</td>\n",
              "      <td>97012.0</td>\n",
              "      <td>95632.0</td>\n",
              "      <td>96999.0</td>\n",
              "      <td>96999.0</td>\n",
              "      <td>7351100</td>\n",
              "    </tr>\n",
              "  </tbody>\n",
              "</table>\n",
              "</div>"
            ],
            "text/plain": [
              "               Open     High      Low    Close  Adj Close   Volume\n",
              "Date                                                              \n",
              "2020-09-21  98283.0  98283.0  95820.0  96991.0    96991.0  9738000\n",
              "2020-09-22  96995.0  97684.0  96390.0  97294.0    97294.0  7281300\n",
              "2020-09-23  97294.0  97389.0  95728.0  95735.0    95735.0  8830700\n",
              "2020-09-24  95735.0  97955.0  95653.0  97012.0    97012.0  9331000\n",
              "2020-09-25  97011.0  97012.0  95632.0  96999.0    96999.0  7351100"
            ]
          },
          "metadata": {
            "tags": []
          },
          "execution_count": 9
        }
      ]
    },
    {
      "cell_type": "markdown",
      "metadata": {
        "id": "d6Ty6Orr3zcr"
      },
      "source": [
        ">Plotando o gráfico com o preços de fechamento do Índice Bovespa"
      ]
    },
    {
      "cell_type": "code",
      "metadata": {
        "id": "tHIoLxp-20V6",
        "outputId": "859f73f6-2d65-409c-f3f8-dfa5e464eda0",
        "colab": {
          "base_uri": "https://localhost:8080/",
          "height": 580
        }
      },
      "source": [
        "ibov['Close'].plot(figsize=(22,10))"
      ],
      "execution_count": 13,
      "outputs": [
        {
          "output_type": "execute_result",
          "data": {
            "text/plain": [
              "<matplotlib.axes._subplots.AxesSubplot at 0x7fa72da27198>"
            ]
          },
          "metadata": {
            "tags": []
          },
          "execution_count": 13
        },
        {
          "output_type": "display_data",
          "data": {
            "image/png": "[encoded data removed]",
            "text/plain": [
              "<Figure size 1584x720 with 1 Axes>"
            ]
          },
          "metadata": {
            "tags": [],
            "needs_background": "light"
          }
        }
      ]
    }
  ]
}